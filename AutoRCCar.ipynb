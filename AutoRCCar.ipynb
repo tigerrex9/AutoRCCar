{
  "nbformat": 4,
  "nbformat_minor": 0,
  "metadata": {
    "colab": {
      "provenance": [],
      "authorship_tag": "ABX9TyMK7+WWGVt4S31UgoFeyGs1",
      "include_colab_link": true
    },
    "kernelspec": {
      "name": "python3",
      "display_name": "Python 3"
    },
    "language_info": {
      "name": "python"
    }
  },
  "cells": [
    {
      "cell_type": "markdown",
      "metadata": {
        "id": "view-in-github",
        "colab_type": "text"
      },
      "source": [
        "<a href=\"https://colab.research.google.com/github/tigerrex9/AutoRCCar/blob/main/AutoRCCar.ipynb\" target=\"_parent\"><img src=\"https://colab.research.google.com/assets/colab-badge.svg\" alt=\"Open In Colab\"/></a>"
      ]
    },
    {
      "cell_type": "code",
      "execution_count": null,
      "metadata": {
        "id": "4YCd6l2VOZ-3"
      },
      "outputs": [],
      "source": [
        "import os\n",
        "import pandas as pd\n",
        "import numpy as np\n",
        "import tensorflow as tf\n",
        "from tensorflow import keras\n",
        "import sklearn\n",
        "\n",
        "from sklearn.metrics import precision_score, recall_score, accuracy_score, f1_score, confusion_matrix\n",
        "from sklearn.model_selection import train_test_split\n",
        "\n",
        "from keras.models import Sequential\n",
        "from keras.layers import Dense, Dropout, Activation, Flatten, Conv2D, MaxPooling2D, BatchNormalization\n",
        "from keras.callbacks import EarlyStopping, ModelCheckpoint\n",
        "from keras import optimizers\n",
        "\n",
        "from keras import backend as K"
      ]
    },
    {
      "cell_type": "code",
      "source": [
        "#properties\n",
        "height, width, depth = 320, 240, 3\n",
        "outputs = 5"
      ],
      "metadata": {
        "id": "aOtfgCqQPuF_"
      },
      "execution_count": null,
      "outputs": []
    },
    {
      "cell_type": "code",
      "source": [
        "#make model function\n",
        "def make_model(image_resolution, informational_neurons, outputs, dropout_rate):\n",
        "    image_data = keras.Input(shape=(image_resolution), name=\"image_data\")\n",
        "    information = keras.Input(shape=(informational_neurons), name=\"information\")\n",
        "\n",
        "    all_inputs = [image_data, information]\n",
        "\n",
        "    #input image_data into cnn\n",
        "    x = keras.layers.Conv2D(32, 3, padding=\"same\")(image_data)\n",
        "    x = keras.layers.BatchNormalization()(x)\n",
        "    x = keras.layers.Activation(\"relu\")(x)\n",
        "    \n",
        "    x = keras.layers.Dropout(dropout_rate)(x)\n",
        "\n",
        "    for size in [64, 128, 256]:\n",
        "        x = keras.layers.Conv2D(size, 3, padding=\"same\")(x)\n",
        "        x = keras.layers.BatchNormalization()(x)\n",
        "        x = keras.layers.Activation(\"relu\")(x)\n",
        "        \n",
        "        x = keras.layers.Dropout(dropout_rate)(x)\n",
        "\n",
        "    x = keras.layers.Flatten()(x)\n",
        "\n",
        "    #input information and flattened image_data layer into dense layer\n",
        "    concatenated_layers = keras.layers.Concatenate()([x, information])\n",
        "\n",
        "    x = keras.layers.Dense(32, activation=\"relu\")(concatenated_layers)\n",
        "    x = keras.layers.Dropout(dropout_rate)(x)\n",
        "\n",
        "    #get output\n",
        "    output = keras.layers.Dense(outputs, activation=\"relu\")(x)\n",
        "\n",
        "    model = keras.Model(all_inputs, output)\n",
        "    return model\n"
      ],
      "metadata": {
        "id": "skT4wiseRESr"
      },
      "execution_count": null,
      "outputs": []
    },
    {
      "cell_type": "code",
      "source": [
        "model = make_model([height, width, depth], outputs, outputs, 0.2)"
      ],
      "metadata": {
        "id": "kebdqw67SVew"
      },
      "execution_count": null,
      "outputs": []
    },
    {
      "cell_type": "code",
      "source": [
        "model.compile(\n",
        "    optimizer = keras.optimizers.Adam(1e-3),\n",
        "    loss = \"categorical_crossentropy\";,\n",
        "    metrics = [\"accuracy\"],\n",
        ")"
      ],
      "metadata": {
        "id": "7JM9278X7Ugj"
      },
      "execution_count": null,
      "outputs": []
    },
    {
      "cell_type": "code",
      "source": [
        "model.save(\"saved_model\")\n",
        "\n",
        "converter = tf.lite.TFLiteConverter.from_keras_model(model)\n",
        "tflite_model = converter.convert()\n",
        "\n",
        "with open(\"model.tflite\", \"wb\") as f:\n",
        "  f.write(tflite_model)"
      ],
      "metadata": {
        "id": "Z-Qj0_0HVJ2w"
      },
      "execution_count": null,
      "outputs": []
    },
    {
      "cell_type": "code",
      "source": [
        "converter = tf.lite.TFLiteConverter.from_keras_model(model)\n",
        "tflite_model = converter.convert()"
      ],
      "metadata": {
        "id": "z35o4A_2T76L"
      },
      "execution_count": null,
      "outputs": []
    }
  ]
}